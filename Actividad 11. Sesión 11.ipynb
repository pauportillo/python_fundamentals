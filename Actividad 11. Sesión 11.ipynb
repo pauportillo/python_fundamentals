{
 "cells": [
  {
   "cell_type": "code",
   "execution_count": 1,
   "metadata": {},
   "outputs": [],
   "source": [
    "#Crear un programa que permita al usuario ingresar los montos de  las compras de un cliente \n",
    "     # (se desconoce la cantidad de datos que se  cargarán, que pueden cambiar en cada ejecución), \n",
    "     # cortando el  ingreso de datos cuando el usuario ingresa el monto 0.\n",
    "\n",
    "#Si ingresa una cantidad negativa, no debe procesarse y se le debe  solicitar que ingrese una nueva cantidad. \n",
    "     # Al ﬁnalizar, informar el  total a pagar teniendo en cuenta que, si las ventas superan el total  de $ 1000, \n",
    "     # se debe aplicar un 10% de descuento."
   ]
  },
  {
   "cell_type": "code",
   "execution_count": 2,
   "metadata": {},
   "outputs": [
    {
     "name": "stdout",
     "output_type": "stream",
     "text": [
      "Felicidades! Tienes descuento de 10%\n",
      "Descuento:  -130.0\n",
      "El total de su compra es:  1170.0\n"
     ]
    }
   ],
   "source": [
    "total = 0\n",
    "descuento=0\n",
    "\n",
    "compra = float(input(\"Ingrese el monto del cliente: (0 para salir): \"))\n",
    "\n",
    "while compra != 0:\n",
    "    if compra<0:\n",
    "        print(\"La cantidad no se puede procesar, favor de ingresar un monto válido\")\n",
    "    else:\n",
    "        total+=compra\n",
    "    compra = float(input(\"Ingrese el siguiente monto del cliente: (0 para salir): \"))\n",
    "if total>1000:\n",
    "    descuento-= total*0.1\n",
    "    total = total+compra\n",
    "    tot_desc=descuento+total\n",
    "    print(\"Felicidades! Tienes descuento de 10%\")\n",
    "    print(\"Descuento: \",descuento)\n",
    "    print(\"El total de su compra es: \",tot_desc)\n",
    "else:\n",
    "    print(\"El total de su compra es: \", total)"
   ]
  },
  {
   "cell_type": "code",
   "execution_count": 1,
   "metadata": {},
   "outputs": [
    {
     "name": "stdout",
     "output_type": "stream",
     "text": [
      "La cantidad no se puede procesar, favor de ingresar un monto válido\n",
      "El total de su compra es:  0\n"
     ]
    }
   ],
   "source": [
    "total = 0\n",
    "descuento=0\n",
    "\n",
    "compra = float(input(\"Ingrese el monto del cliente: (0 para salir): \"))\n",
    "\n",
    "while compra != 0:\n",
    "    if compra<0:\n",
    "        print(\"La cantidad no se puede procesar, favor de ingresar un monto válido\")\n",
    "    else:\n",
    "        total+=compra\n",
    "    compra = float(input(\"Ingrese el siguiente monto del cliente: (0 para salir): \"))\n",
    "if total>1000:\n",
    "    descuento-= total*0.1\n",
    "    total = total+compra\n",
    "    tot_desc=descuento+total\n",
    "    print(\"Felicidades! Tienes descuento de 10%\")\n",
    "    print(\"Descuento: \",descuento)\n",
    "    print(\"El total de su compra es: \",tot_desc)\n",
    "else:\n",
    "    print(\"El total de su compra es: \", total)"
   ]
  },
  {
   "cell_type": "code",
   "execution_count": null,
   "metadata": {},
   "outputs": [],
   "source": []
  }
 ],
 "metadata": {
  "kernelspec": {
   "display_name": "Python 3.10.6 64-bit",
   "language": "python",
   "name": "python3"
  },
  "language_info": {
   "codemirror_mode": {
    "name": "ipython",
    "version": 3
   },
   "file_extension": ".py",
   "mimetype": "text/x-python",
   "name": "python",
   "nbconvert_exporter": "python",
   "pygments_lexer": "ipython3",
   "version": "3.10.6"
  },
  "orig_nbformat": 4,
  "vscode": {
   "interpreter": {
    "hash": "aa5099bd9d6d5d889d41f61f8f9298e086aa4c8366ed2958337f34080da038c6"
   }
  }
 },
 "nbformat": 4,
 "nbformat_minor": 2
}
