{
 "cells": [
  {
   "cell_type": "code",
   "execution_count": 23,
   "id": "e46ea812",
   "metadata": {},
   "outputs": [],
   "source": [
    "import numpy as np\n",
    "import pandas as pd\n",
    "import math"
   ]
  },
  {
   "cell_type": "markdown",
   "id": "662e8f7d",
   "metadata": {},
   "source": [
    "# Actividad 14"
   ]
  },
  {
   "cell_type": "code",
   "execution_count": 2,
   "id": "fdc2fc48",
   "metadata": {},
   "outputs": [],
   "source": [
    "# Crear una calculadora con al menos 4 operaciones básicas"
   ]
  },
  {
   "cell_type": "code",
   "execution_count": 24,
   "id": "829a802f",
   "metadata": {},
   "outputs": [
    {
     "name": "stdout",
     "output_type": "stream",
     "text": [
      "CALCULADORA\n",
      "\n",
      "\n",
      "Ingrese el primer numero: 6\n",
      "Ingrese el segundo numero:9\n",
      "\n",
      "La suma de los numeros es:  15.0\n",
      "La resta de los numeros es:  -3.0\n",
      "La multiplicación de los numeros es:  54.0\n",
      "La división de los numeros es:  0.6666666666666666\n",
      "La potencia del primer numero es:  46656.0\n",
      "La potencia del segundo numero es:  387420489.0\n",
      "La raiz del primer numero es:  2.449489742783178\n",
      "La raiz del segundo numero es:  3.0\n"
     ]
    }
   ],
   "source": [
    "print(\"CALCULADORA\\n\\n\")\n",
    "\n",
    "#Definir variables\n",
    "s1=input(\"Ingrese el primer numero: \")\n",
    "s2=input(\"Ingrese el segundo numero:\")\n",
    "\n",
    "#Definir la clase calculadora\n",
    "class calculadora: \n",
    "    '''Clase que representa la calculadora'''\n",
    "    \n",
    "    #Definir función init\n",
    "    def __init__(self, s1,s2):\n",
    "        self.s1 = float(s1)\n",
    "        self.s2 = float(s2)\n",
    "        \n",
    "    #Definir funciones de operaciones\n",
    "    def suma(self):\n",
    "        suma=self.s1+self.s2\n",
    "        print(\"\\nLa suma de los numeros es: \", suma)\n",
    "    \n",
    "    def resta(self):\n",
    "        resta=self.s1-self.s2\n",
    "        print(\"La resta de los numeros es: \", resta)\n",
    "    \n",
    "    def multiplicacion(self):\n",
    "        multiplicacion=self.s1*self.s2\n",
    "        print(\"La multiplicación de los numeros es: \", multiplicacion)\n",
    "    \n",
    "    def division(self):\n",
    "        division=self.s1/self.s2\n",
    "        print(\"La división de los numeros es: \", division)\n",
    "\n",
    "# Avanzado - Raíz cuadrada y elevar potencias\n",
    "    def potencia(self):\n",
    "        potencia1=self.s1**self.s1\n",
    "        potencia2=self.s2**self.s2\n",
    "        print(\"La potencia del primer numero es: \", potencia1)\n",
    "        print(\"La potencia del segundo numero es: \", potencia2)\n",
    "        \n",
    "    def raiz(self):\n",
    "        raiz1=math.sqrt(self.s1)\n",
    "        raiz2=math.sqrt(self.s2)\n",
    "        print(\"La raiz del primer numero es: \", raiz1)\n",
    "        print(\"La raiz del segundo numero es: \", raiz2)\n",
    "        \n",
    "calculadora = calculadora(s1,s2)\n",
    "calculadora.suma()\n",
    "calculadora.resta()\n",
    "calculadora.multiplicacion()\n",
    "calculadora.division()\n",
    "calculadora.potencia()\n",
    "calculadora.raiz()"
   ]
  }
 ],
 "metadata": {
  "kernelspec": {
   "display_name": "Python 3 (ipykernel)",
   "language": "python",
   "name": "python3"
  },
  "language_info": {
   "codemirror_mode": {
    "name": "ipython",
    "version": 3
   },
   "file_extension": ".py",
   "mimetype": "text/x-python",
   "name": "python",
   "nbconvert_exporter": "python",
   "pygments_lexer": "ipython3",
   "version": "3.9.12"
  }
 },
 "nbformat": 4,
 "nbformat_minor": 5
}
