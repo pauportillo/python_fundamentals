{
 "cells": [
  {
   "cell_type": "code",
   "execution_count": 7,
   "id": "b3d5c286",
   "metadata": {},
   "outputs": [],
   "source": [
    "import numpy"
   ]
  },
  {
   "cell_type": "code",
   "execution_count": 9,
   "id": "b517ad71",
   "metadata": {},
   "outputs": [],
   "source": [
    "import numpy as np"
   ]
  },
  {
   "cell_type": "code",
   "execution_count": 1,
   "id": "36fb6dbd",
   "metadata": {},
   "outputs": [],
   "source": [
    "#Crear un vector o matriz de una dimensión, con valores dentro del rango 3 a el número que representa tu edad"
   ]
  },
  {
   "cell_type": "code",
   "execution_count": 22,
   "id": "6d347181",
   "metadata": {
    "scrolled": true
   },
   "outputs": [],
   "source": [
    "v1=np.array(range(3,26))"
   ]
  },
  {
   "cell_type": "code",
   "execution_count": 23,
   "id": "c42c60ee",
   "metadata": {},
   "outputs": [
    {
     "data": {
      "text/plain": [
       "array([ 3,  4,  5,  6,  7,  8,  9, 10, 11, 12, 13, 14, 15, 16, 17, 18, 19,\n",
       "       20, 21, 22, 23, 24, 25])"
      ]
     },
     "execution_count": 23,
     "metadata": {},
     "output_type": "execute_result"
    }
   ],
   "source": [
    "v1"
   ]
  },
  {
   "cell_type": "code",
   "execution_count": 2,
   "id": "428346dd",
   "metadata": {},
   "outputs": [],
   "source": [
    "#Crear un arreglo con los siguientes elementos [0,1,2,3,4,0,1,2,3,4]"
   ]
  },
  {
   "cell_type": "code",
   "execution_count": 24,
   "id": "0a8c632b",
   "metadata": {},
   "outputs": [],
   "source": [
    "v2=numpy.array([0,1,2,3,4,0,1,2,3,4])"
   ]
  },
  {
   "cell_type": "code",
   "execution_count": 25,
   "id": "e098a690",
   "metadata": {},
   "outputs": [
    {
     "data": {
      "text/plain": [
       "numpy.ndarray"
      ]
     },
     "execution_count": 25,
     "metadata": {},
     "output_type": "execute_result"
    }
   ],
   "source": [
    "type(v2)"
   ]
  },
  {
   "cell_type": "code",
   "execution_count": 26,
   "id": "c92f924b",
   "metadata": {},
   "outputs": [
    {
     "data": {
      "text/plain": [
       "array([0, 1, 2, 3, 4, 0, 1, 2, 3, 4])"
      ]
     },
     "execution_count": 26,
     "metadata": {},
     "output_type": "execute_result"
    }
   ],
   "source": [
    "v2"
   ]
  },
  {
   "cell_type": "code",
   "execution_count": 3,
   "id": "cc6e68ee",
   "metadata": {},
   "outputs": [],
   "source": [
    "#Ordena de forma ascendiente dicho rango"
   ]
  },
  {
   "cell_type": "code",
   "execution_count": 27,
   "id": "b819687d",
   "metadata": {},
   "outputs": [],
   "source": [
    "v2.sort()"
   ]
  },
  {
   "cell_type": "code",
   "execution_count": 28,
   "id": "49519a26",
   "metadata": {},
   "outputs": [
    {
     "data": {
      "text/plain": [
       "array([0, 0, 1, 1, 2, 2, 3, 3, 4, 4])"
      ]
     },
     "execution_count": 28,
     "metadata": {},
     "output_type": "execute_result"
    }
   ],
   "source": [
    "v2"
   ]
  }
 ],
 "metadata": {
  "kernelspec": {
   "display_name": "Python 3 (ipykernel)",
   "language": "python",
   "name": "python3"
  },
  "language_info": {
   "codemirror_mode": {
    "name": "ipython",
    "version": 3
   },
   "file_extension": ".py",
   "mimetype": "text/x-python",
   "name": "python",
   "nbconvert_exporter": "python",
   "pygments_lexer": "ipython3",
   "version": "3.9.12"
  }
 },
 "nbformat": 4,
 "nbformat_minor": 5
}
