{
 "cells": [
  {
   "cell_type": "code",
   "execution_count": 7,
   "metadata": {},
   "outputs": [],
   "source": [
    "#Crea una función en la cual recibas como argumentos los  parámetros de una función cuadrática, y te regrese x1 y x2.\n",
    "#Formula general: (-b+-/b^2-4ac)/2a\n",
    "from cmath import sqrt"
   ]
  },
  {
   "cell_type": "code",
   "execution_count": 9,
   "metadata": {},
   "outputs": [
    {
     "name": "stdout",
     "output_type": "stream",
     "text": [
      "Encuentra los valores de x1 y x2\n",
      "a es igual a:  1.0\n",
      "b es igual a:  3.0\n",
      "c es igual a:  -7.0\n",
      "x1 es igual a:  (1.5413812651491097+0j)\n",
      "x2 es igual a:  (-4.541381265149109+0j)\n"
     ]
    }
   ],
   "source": [
    "print(\"Encuentra los valores de x1 y x2\")\n",
    "\n",
    "#Función de fórmula general\n",
    "def formula(a,b,c):\n",
    "    x1 = (-b+(sqrt((b*b)-(4*a*c))))/(2*a)\n",
    "    x2 = (-b-(sqrt((b*b)-(4*a*c))))/(2*a)\n",
    "    print(\"a es igual a: \",a)\n",
    "    print(\"b es igual a: \",b)\n",
    "    print(\"c es igual a: \",c)\n",
    "    print(\"x1 es igual a: \",x1)\n",
    "    print(\"x2 es igual a: \",x2)\n",
    "\n",
    "#Pedir los valores\n",
    "a = float(input(\"Ingresa el primer término x^2\"))\n",
    "b = float(input(\"Ingresa el segundo término, de la forma 'x': \"))\n",
    "c = float(input(\"Ingresa el tercer término, de la forma 'n': \"))\n",
    "\n",
    "formula(a,b,c)\n"
   ]
  },
  {
   "cell_type": "code",
   "execution_count": null,
   "metadata": {},
   "outputs": [],
   "source": []
  }
 ],
 "metadata": {
  "kernelspec": {
   "display_name": "Python 3.10.6 64-bit",
   "language": "python",
   "name": "python3"
  },
  "language_info": {
   "codemirror_mode": {
    "name": "ipython",
    "version": 3
   },
   "file_extension": ".py",
   "mimetype": "text/x-python",
   "name": "python",
   "nbconvert_exporter": "python",
   "pygments_lexer": "ipython3",
   "version": "3.10.6"
  },
  "orig_nbformat": 4,
  "vscode": {
   "interpreter": {
    "hash": "aa5099bd9d6d5d889d41f61f8f9298e086aa4c8366ed2958337f34080da038c6"
   }
  }
 },
 "nbformat": 4,
 "nbformat_minor": 2
}
