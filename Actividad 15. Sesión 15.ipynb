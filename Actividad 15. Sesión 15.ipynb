{
 "cells": [
  {
   "cell_type": "code",
   "execution_count": 1,
   "id": "49b0ff8b",
   "metadata": {},
   "outputs": [],
   "source": [
    "import numpy as np\n",
    "import pandas as pd"
   ]
  },
  {
   "cell_type": "markdown",
   "id": "4ea614a9",
   "metadata": {},
   "source": [
    "# Actividad 15"
   ]
  },
  {
   "cell_type": "code",
   "execution_count": 3,
   "id": "483aa88b",
   "metadata": {},
   "outputs": [],
   "source": [
    "#Obtén la diferencia entre el salario más alto y el más pequeño.\n",
    "#Tip: Utilizar función \"describe\"."
   ]
  },
  {
   "cell_type": "code",
   "execution_count": 4,
   "id": "5890ab21",
   "metadata": {},
   "outputs": [],
   "source": [
    "dict_1={\n",
    "    \"Nombre\":[\"Ringo\", \"Jon\", \"Paula\", \"George\", \"Yoko\"],\n",
    "    \"Edad\":[43,34,65,15,23],\n",
    "    \"Salario\":[12000,40000,31500,22800,11760],\n",
    "    \"Genero\":[\"M\",\"M\",\"F\",\"M\",\"F\"]\n",
    "}"
   ]
  },
  {
   "cell_type": "code",
   "execution_count": 6,
   "id": "e10fe1da",
   "metadata": {},
   "outputs": [
    {
     "data": {
      "text/html": [
       "<div>\n",
       "<style scoped>\n",
       "    .dataframe tbody tr th:only-of-type {\n",
       "        vertical-align: middle;\n",
       "    }\n",
       "\n",
       "    .dataframe tbody tr th {\n",
       "        vertical-align: top;\n",
       "    }\n",
       "\n",
       "    .dataframe thead th {\n",
       "        text-align: right;\n",
       "    }\n",
       "</style>\n",
       "<table border=\"1\" class=\"dataframe\">\n",
       "  <thead>\n",
       "    <tr style=\"text-align: right;\">\n",
       "      <th></th>\n",
       "      <th>Nombre</th>\n",
       "      <th>Edad</th>\n",
       "      <th>Salario</th>\n",
       "      <th>Genero</th>\n",
       "    </tr>\n",
       "  </thead>\n",
       "  <tbody>\n",
       "    <tr>\n",
       "      <th>0</th>\n",
       "      <td>Ringo</td>\n",
       "      <td>43</td>\n",
       "      <td>12000</td>\n",
       "      <td>M</td>\n",
       "    </tr>\n",
       "    <tr>\n",
       "      <th>1</th>\n",
       "      <td>Jon</td>\n",
       "      <td>34</td>\n",
       "      <td>40000</td>\n",
       "      <td>M</td>\n",
       "    </tr>\n",
       "    <tr>\n",
       "      <th>2</th>\n",
       "      <td>Paula</td>\n",
       "      <td>65</td>\n",
       "      <td>31500</td>\n",
       "      <td>F</td>\n",
       "    </tr>\n",
       "    <tr>\n",
       "      <th>3</th>\n",
       "      <td>George</td>\n",
       "      <td>15</td>\n",
       "      <td>22800</td>\n",
       "      <td>M</td>\n",
       "    </tr>\n",
       "    <tr>\n",
       "      <th>4</th>\n",
       "      <td>Yoko</td>\n",
       "      <td>23</td>\n",
       "      <td>11760</td>\n",
       "      <td>F</td>\n",
       "    </tr>\n",
       "  </tbody>\n",
       "</table>\n",
       "</div>"
      ],
      "text/plain": [
       "   Nombre  Edad  Salario Genero\n",
       "0   Ringo    43    12000      M\n",
       "1     Jon    34    40000      M\n",
       "2   Paula    65    31500      F\n",
       "3  George    15    22800      M\n",
       "4    Yoko    23    11760      F"
      ]
     },
     "execution_count": 6,
     "metadata": {},
     "output_type": "execute_result"
    }
   ],
   "source": [
    "data=pd.DataFrame(dict_1)\n",
    "data.head()"
   ]
  },
  {
   "cell_type": "code",
   "execution_count": 25,
   "id": "ee669715",
   "metadata": {},
   "outputs": [
    {
     "data": {
      "text/plain": [
       "array([[11760]], dtype=int64)"
      ]
     },
     "execution_count": 25,
     "metadata": {},
     "output_type": "execute_result"
    }
   ],
   "source": [
    "smin=sord[sord[\"Salario\"]==data[\"Salario\"].min()]\n",
    "smin.values"
   ]
  },
  {
   "cell_type": "code",
   "execution_count": 27,
   "id": "d40d0fd6",
   "metadata": {},
   "outputs": [
    {
     "data": {
      "text/plain": [
       "array([[40000]], dtype=int64)"
      ]
     },
     "execution_count": 27,
     "metadata": {},
     "output_type": "execute_result"
    }
   ],
   "source": [
    "smax=sord[sord[\"Salario\"]==data[\"Salario\"].max()]\n",
    "smax.values"
   ]
  },
  {
   "cell_type": "code",
   "execution_count": 29,
   "id": "d7b13631",
   "metadata": {},
   "outputs": [
    {
     "name": "stdout",
     "output_type": "stream",
     "text": [
      "La diferencia entre el salario más alto y el más bajo es:  [[28240]]\n"
     ]
    }
   ],
   "source": [
    "sdif=smax.values-smin.values\n",
    "print(\"La diferencia entre el salario más alto y el más bajo es: \",sdif)"
   ]
  },
  {
   "cell_type": "markdown",
   "id": "2dc40ced",
   "metadata": {},
   "source": [
    "## Avanzado"
   ]
  },
  {
   "cell_type": "code",
   "execution_count": null,
   "id": "0b7b9b22",
   "metadata": {},
   "outputs": [],
   "source": [
    "#Obtén los valores estadísticos de los salarios. (media, mediana, desviación estándar, etc)"
   ]
  },
  {
   "cell_type": "code",
   "execution_count": 15,
   "id": "c40aa428",
   "metadata": {},
   "outputs": [
    {
     "name": "stdout",
     "output_type": "stream",
     "text": [
      "La media de los datos es:\n"
     ]
    },
    {
     "data": {
      "text/plain": [
       "Edad          36.0\n",
       "Salario    23612.0\n",
       "dtype: float64"
      ]
     },
     "execution_count": 15,
     "metadata": {},
     "output_type": "execute_result"
    }
   ],
   "source": [
    "print(\"La media de los datos es:\")\n",
    "data.mean(numeric_only=True)"
   ]
  },
  {
   "cell_type": "code",
   "execution_count": 16,
   "id": "dd4a381e",
   "metadata": {},
   "outputs": [
    {
     "name": "stdout",
     "output_type": "stream",
     "text": [
      "La mediana de los datos es:\n"
     ]
    },
    {
     "data": {
      "text/plain": [
       "Edad          34.0\n",
       "Salario    22800.0\n",
       "dtype: float64"
      ]
     },
     "execution_count": 16,
     "metadata": {},
     "output_type": "execute_result"
    }
   ],
   "source": [
    "print(\"La mediana de los datos es:\")\n",
    "data.median(numeric_only=True)"
   ]
  },
  {
   "cell_type": "code",
   "execution_count": 30,
   "id": "bfcbc3bb",
   "metadata": {},
   "outputs": [
    {
     "name": "stdout",
     "output_type": "stream",
     "text": [
      "La desviación estándar de los datos es:\n"
     ]
    },
    {
     "data": {
      "text/plain": [
       "Edad          19.390719\n",
       "Salario    12316.197465\n",
       "dtype: float64"
      ]
     },
     "execution_count": 30,
     "metadata": {},
     "output_type": "execute_result"
    }
   ],
   "source": [
    "print(\"La desviación estándar de los datos es:\")\n",
    "data.std(numeric_only=True)"
   ]
  },
  {
   "cell_type": "code",
   "execution_count": 32,
   "id": "a531e735",
   "metadata": {},
   "outputs": [
    {
     "data": {
      "text/plain": [
       "<AxesSubplot:xlabel='Nombre'>"
      ]
     },
     "execution_count": 32,
     "metadata": {},
     "output_type": "execute_result"
    },
    {
     "data": {
      "image/png": "[encoded data removed]",
      "text/plain": [
       "<Figure size 432x288 with 1 Axes>"
      ]
     },
     "metadata": {
      "needs_background": "light"
     },
     "output_type": "display_data"
    }
   ],
   "source": [
    "#Histórico con los datos de Salario\n",
    "data.set_index(\"Nombre\", inplace=True)\n",
    "data[\"Salario\"].plot(kind=\"bar\")"
   ]
  }
 ],
 "metadata": {
  "kernelspec": {
   "display_name": "Python 3 (ipykernel)",
   "language": "python",
   "name": "python3"
  },
  "language_info": {
   "codemirror_mode": {
    "name": "ipython",
    "version": 3
   },
   "file_extension": ".py",
   "mimetype": "text/x-python",
   "name": "python",
   "nbconvert_exporter": "python",
   "pygments_lexer": "ipython3",
   "version": "3.9.12"
  }
 },
 "nbformat": 4,
 "nbformat_minor": 5
}
