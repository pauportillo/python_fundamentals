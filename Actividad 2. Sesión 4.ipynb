{
 "cells": [
  {
   "cell_type": "code",
   "execution_count": 1,
   "id": "46a8953e",
   "metadata": {},
   "outputs": [],
   "source": [
    "#Crea una tupla con una longitud de 5 usando diferentes tipos de datos yphnv"
   ]
  },
  {
   "cell_type": "code",
   "execution_count": 2,
   "id": "409a87f7",
   "metadata": {},
   "outputs": [],
   "source": [
    "tuplaActividad2=(\"Paula\", False, \"Canción\", \"Gato\", 12.54)"
   ]
  },
  {
   "cell_type": "code",
   "execution_count": 3,
   "id": "1fb3c9ba",
   "metadata": {},
   "outputs": [
    {
     "data": {
      "text/plain": [
       "tuple"
      ]
     },
     "execution_count": 3,
     "metadata": {},
     "output_type": "execute_result"
    }
   ],
   "source": [
    "type(tuplaActividad2)"
   ]
  },
  {
   "cell_type": "code",
   "execution_count": 4,
   "id": "c079d658",
   "metadata": {},
   "outputs": [],
   "source": [
    "#Cambiar la tupla a lista"
   ]
  },
  {
   "cell_type": "code",
   "execution_count": 5,
   "id": "21f4d0af",
   "metadata": {},
   "outputs": [],
   "source": [
    "listTuplaA2=list(tuplaActividad2)"
   ]
  },
  {
   "cell_type": "code",
   "execution_count": 6,
   "id": "cfcab4c7",
   "metadata": {},
   "outputs": [
    {
     "data": {
      "text/plain": [
       "['Paula', False, 'Canción', 'Gato', 12.54]"
      ]
     },
     "execution_count": 6,
     "metadata": {},
     "output_type": "execute_result"
    }
   ],
   "source": [
    "listTuplaA2"
   ]
  },
  {
   "cell_type": "code",
   "execution_count": 7,
   "id": "ed4c9b53",
   "metadata": {},
   "outputs": [
    {
     "data": {
      "text/plain": [
       "list"
      ]
     },
     "execution_count": 7,
     "metadata": {},
     "output_type": "execute_result"
    }
   ],
   "source": [
    "type(listTuplaA2)"
   ]
  },
  {
   "cell_type": "code",
   "execution_count": 8,
   "id": "81df9dbe",
   "metadata": {},
   "outputs": [],
   "source": [
    "#Crear un diccionario donde la clave sea del 1 al 5 y los elementos los datos de la lista"
   ]
  },
  {
   "cell_type": "code",
   "execution_count": 9,
   "id": "b4a68918",
   "metadata": {},
   "outputs": [],
   "source": [
    "dicA2={\n",
    "    \"1\":{\"Nombre\":\"Paula\", \"Estatus\":\"False\", \"Tipo\":\"Canción\", \"Animal\": \"Gato\", \"Numero\":\"12.54\"},\n",
    "    \"2\":{\"Nombre\":\"Ana\", \"Estatus\":\"True\", \"Tipo\":\"Vals\", \"Animal\": \"Perro\", \"Numero\":\"6.4\"},\n",
    "    \"3\":{\"Nombre\":\"Asiel\", \"Estatus\":\"True\", \"Tipo\":\"Vals\", \"Animal\": \"Iguana\", \"Numero\":\"1\"},\n",
    "    \"4\":{\"Nombre\":\"Gerardo\", \"Estatus\":\"False\", \"Tipo\":\"Canción\", \"Animal\": \"Gato\", \"Numero\":\"23.56\"},\n",
    "    \"5\":{\"Nombre\":\"María\", \"Estatus\":\"False\", \"Tipo\":\"Canción\", \"Animal\": \"Perro\", \"Numero\":\"0.987\"},\n",
    "}"
   ]
  },
  {
   "cell_type": "code",
   "execution_count": 10,
   "id": "f2a875bc",
   "metadata": {},
   "outputs": [
    {
     "data": {
      "text/plain": [
       "{'1': {'Nombre': 'Paula',\n",
       "  'Estatus': 'False',\n",
       "  'Tipo': 'Canción',\n",
       "  'Animal': 'Gato',\n",
       "  'Numero': '12.54'},\n",
       " '2': {'Nombre': 'Ana',\n",
       "  'Estatus': 'True',\n",
       "  'Tipo': 'Vals',\n",
       "  'Animal': 'Perro',\n",
       "  'Numero': '6.4'},\n",
       " '3': {'Nombre': 'Asiel',\n",
       "  'Estatus': 'True',\n",
       "  'Tipo': 'Vals',\n",
       "  'Animal': 'Iguana',\n",
       "  'Numero': '1'},\n",
       " '4': {'Nombre': 'Gerardo',\n",
       "  'Estatus': 'False',\n",
       "  'Tipo': 'Canción',\n",
       "  'Animal': 'Gato',\n",
       "  'Numero': '23.56'},\n",
       " '5': {'Nombre': 'María',\n",
       "  'Estatus': 'False',\n",
       "  'Tipo': 'Canción',\n",
       "  'Animal': 'Perro',\n",
       "  'Numero': '0.987'}}"
      ]
     },
     "execution_count": 10,
     "metadata": {},
     "output_type": "execute_result"
    }
   ],
   "source": [
    "dicA2"
   ]
  },
  {
   "cell_type": "code",
   "execution_count": 11,
   "id": "f16f54fd",
   "metadata": {},
   "outputs": [],
   "source": [
    "keys=(\"Nombre\", \"Estatus\", \"Tipo\", \"Animal\", \"Numero\")\n",
    "dic2=dict.fromkeys(keys) "
   ]
  },
  {
   "cell_type": "code",
   "execution_count": 12,
   "id": "363e2823",
   "metadata": {},
   "outputs": [
    {
     "data": {
      "text/plain": [
       "{'Nombre': None, 'Estatus': None, 'Tipo': None, 'Animal': None, 'Numero': None}"
      ]
     },
     "execution_count": 12,
     "metadata": {},
     "output_type": "execute_result"
    }
   ],
   "source": [
    "dic2"
   ]
  },
  {
   "cell_type": "code",
   "execution_count": 15,
   "id": "7130b306",
   "metadata": {},
   "outputs": [],
   "source": [
    "dic3=dict(Nombre= \"Paula\", Estatus= False, Tipo= \"Canción\", Animal= \"Gato\", Numero=12.54)"
   ]
  },
  {
   "cell_type": "code",
   "execution_count": 16,
   "id": "c23bd988",
   "metadata": {},
   "outputs": [
    {
     "data": {
      "text/plain": [
       "{'Nombre': 'Paula',\n",
       " 'Estatus': False,\n",
       " 'Tipo': 'Canción',\n",
       " 'Animal': 'Gato',\n",
       " 'Numero': 12.54}"
      ]
     },
     "execution_count": 16,
     "metadata": {},
     "output_type": "execute_result"
    }
   ],
   "source": [
    "dic3"
   ]
  },
  {
   "cell_type": "code",
   "execution_count": null,
   "id": "ec9e9726",
   "metadata": {},
   "outputs": [],
   "source": []
  }
 ],
 "metadata": {
  "kernelspec": {
   "display_name": "Python 3 (ipykernel)",
   "language": "python",
   "name": "python3"
  },
  "language_info": {
   "codemirror_mode": {
    "name": "ipython",
    "version": 3
   },
   "file_extension": ".py",
   "mimetype": "text/x-python",
   "name": "python",
   "nbconvert_exporter": "python",
   "pygments_lexer": "ipython3",
   "version": "3.9.12"
  }
 },
 "nbformat": 4,
 "nbformat_minor": 5
}
