{
 "cells": [
  {
   "cell_type": "code",
   "execution_count": 1,
   "id": "b716d939",
   "metadata": {},
   "outputs": [],
   "source": [
    "import numpy as np"
   ]
  },
  {
   "cell_type": "code",
   "execution_count": 2,
   "id": "a1e1f8fb",
   "metadata": {},
   "outputs": [],
   "source": [
    "#El doble de mi edad tiene 24 años, ¿Cuántos años tengo?"
   ]
  },
  {
   "cell_type": "code",
   "execution_count": 8,
   "id": "725e223a",
   "metadata": {},
   "outputs": [
    {
     "name": "stdout",
     "output_type": "stream",
     "text": [
      "Mi edad es 12.0\n"
     ]
    }
   ],
   "source": [
    "edad=24/2\n",
    "edad\n",
    "print(\"Mi edad es\", edad)"
   ]
  },
  {
   "cell_type": "code",
   "execution_count": 3,
   "id": "083e34c1",
   "metadata": {},
   "outputs": [],
   "source": [
    "#A un tercio de la edad de mi hermana la disminuyó en 15 años. Tengo 6 años (x) ¿Qué edad tienen?"
   ]
  },
  {
   "cell_type": "code",
   "execution_count": 11,
   "id": "445421fd",
   "metadata": {},
   "outputs": [
    {
     "name": "stdout",
     "output_type": "stream",
     "text": [
      "La edad de mi hermana es 63.0 yo tengo 6\n"
     ]
    }
   ],
   "source": [
    "#Ecuación: 1/3x=15-y\n",
    "x=6\n",
    "y=(x+15)/(1/3)\n",
    "print(\"La edad de mi hermana es\", y, \"yo tengo\", x)"
   ]
  },
  {
   "cell_type": "code",
   "execution_count": 6,
   "id": "8cc16108",
   "metadata": {},
   "outputs": [],
   "source": [
    "#Determina quién es más grande"
   ]
  },
  {
   "cell_type": "code",
   "execution_count": 7,
   "id": "9931e293",
   "metadata": {},
   "outputs": [
    {
     "data": {
      "text/plain": [
       "63"
      ]
     },
     "execution_count": 7,
     "metadata": {},
     "output_type": "execute_result"
    }
   ],
   "source": [
    "max(x,y)"
   ]
  }
 ],
 "metadata": {
  "kernelspec": {
   "display_name": "Python 3 (ipykernel)",
   "language": "python",
   "name": "python3"
  },
  "language_info": {
   "codemirror_mode": {
    "name": "ipython",
    "version": 3
   },
   "file_extension": ".py",
   "mimetype": "text/x-python",
   "name": "python",
   "nbconvert_exporter": "python",
   "pygments_lexer": "ipython3",
   "version": "3.9.12"
  }
 },
 "nbformat": 4,
 "nbformat_minor": 5
}
