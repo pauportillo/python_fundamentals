{
 "cells": [
  {
   "cell_type": "code",
   "execution_count": 4,
   "metadata": {},
   "outputs": [],
   "source": [
    "#Actividad 9\n",
    "#Ciclos en un grupo\n",
    "#Cada compañero dirá un número. Los guardarás en un diccionario, junto con el nombre de tu pareja.\n",
    "#Luego imprimirán los valores del diccionario (nombre de la persona y número que dijo) (Usando un bucle for)\n",
    "#Al final imprimirán dos mensajes, mostrando el número más grande, y el número más pequeño que dijeron, \n",
    "    #sin el nombre del socio, sólo el número."
   ]
  },
  {
   "cell_type": "code",
   "execution_count": 15,
   "metadata": {},
   "outputs": [
    {
     "name": "stdout",
     "output_type": "stream",
     "text": [
      "Nombre  Número\n",
      "Miguel : 18\n",
      "Edwin : 23\n",
      "Pedro : 16\n",
      "Marco : 25\n",
      "Gerardo : 9\n",
      "Claudia : 21\n",
      "Roland : 25\n",
      "Paco : 13\n",
      "Yolanda : 4\n",
      "Paula : 25\n",
      "\n",
      "El número menor es:  4\n",
      "El número mayor es:  25\n"
     ]
    }
   ],
   "source": [
    "max=0\n",
    "min=99\n",
    "\n",
    "dic_group={\"Miguel\":18, \"Edwin\":23,\"Pedro\":16,\"Marco\":25,\"Gerardo\":9,\"Claudia\":21,\"Roland\":25,\"Paco\":13,\"Yolanda\":4,\"Paula\":25,}\n",
    "print(\"Nombre  Número\")\n",
    "for k,v in dic_group.items():\n",
    "    print(k,\":\",v)\n",
    "    if(v>max):\n",
    "        max=v\n",
    "    if(v<min):\n",
    "        min=v;\n",
    "print(\"\\nEl número menor es: \", min)\n",
    "print(\"El número mayor es: \", max)"
   ]
  },
  {
   "cell_type": "code",
   "execution_count": 13,
   "metadata": {},
   "outputs": [
    {
     "ename": "TypeError",
     "evalue": "'dict' object cannot be interpreted as an integer",
     "output_type": "error",
     "traceback": [
      "\u001b[1;31m---------------------------------------------------------------------------\u001b[0m",
      "\u001b[1;31mTypeError\u001b[0m                                 Traceback (most recent call last)",
      "Cell \u001b[1;32mIn [13], line 9\u001b[0m\n\u001b[0;32m      6\u001b[0m dic_numero\u001b[38;5;241m=\u001b[39m{}\n\u001b[0;32m      7\u001b[0m dic_group\u001b[38;5;241m=\u001b[39m{}\n\u001b[1;32m----> 9\u001b[0m \u001b[38;5;28;01mfor\u001b[39;00m turno \u001b[38;5;129;01min\u001b[39;00m \u001b[38;5;28;43mrange\u001b[39;49m\u001b[43m(\u001b[49m\u001b[43mdic_group\u001b[49m\u001b[43m)\u001b[49m:\n\u001b[0;32m     10\u001b[0m     dic_group\u001b[38;5;241m=\u001b[39m\u001b[38;5;28minput\u001b[39m(\u001b[38;5;124m\"\u001b[39m\u001b[38;5;124mNombre\u001b[39m\u001b[38;5;132;01m{0}\u001b[39;00m\u001b[38;5;124m: \u001b[39m\u001b[38;5;124m\"\u001b[39m\u001b[38;5;241m.\u001b[39mformat(turno\u001b[38;5;241m+\u001b[39m\u001b[38;5;241m1\u001b[39m))\n\u001b[0;32m     11\u001b[0m     dic_numero\u001b[38;5;241m=\u001b[39mnp\u001b[38;5;241m.\u001b[39mrandom\u001b[38;5;241m.\u001b[39mrandint(\u001b[38;5;241m100\u001b[39m,\u001b[38;5;241m50\u001b[39m)\n",
      "\u001b[1;31mTypeError\u001b[0m: 'dict' object cannot be interpreted as an integer"
     ]
    }
   ],
   "source": [
    "#AVANZADO - INTENTO\n",
    "#Asigna un número aleatorio a tu compañero. Los guardarás en un diccionario, junto con el nombre de tu pareja.\n",
    "#Luego imprimirán los valores del diccionario (nombre de la persona y número que dijo) (Usando un bucle for)\n",
    "#Al final imprimirán dos mensajes, mostrando el número más grande, y el número más pequeño que dijeron, \n",
    "    #sin el nombre del socio, sólo el número.\n",
    "dic_numero={}\n",
    "dic_group={}\n",
    "\n",
    "for turno in range(dic_group):\n",
    "    dic_group=input(\"Nombre{0}: \".format(turno+1))\n",
    "    dic_numero=np.random.randint(100,50)\n",
    "print(dic_numero)\n",
    "for k,v in dic_numeros.items():\n",
    "    print(\"{0} -> {1}\".format(k,v))"
   ]
  },
  {
   "cell_type": "code",
   "execution_count": null,
   "metadata": {},
   "outputs": [],
   "source": []
  }
 ],
 "metadata": {
  "kernelspec": {
   "display_name": "Python 3.10.6 64-bit",
   "language": "python",
   "name": "python3"
  },
  "language_info": {
   "codemirror_mode": {
    "name": "ipython",
    "version": 3
   },
   "file_extension": ".py",
   "mimetype": "text/x-python",
   "name": "python",
   "nbconvert_exporter": "python",
   "pygments_lexer": "ipython3",
   "version": "3.10.6"
  },
  "orig_nbformat": 4,
  "vscode": {
   "interpreter": {
    "hash": "aa5099bd9d6d5d889d41f61f8f9298e086aa4c8366ed2958337f34080da038c6"
   }
  }
 },
 "nbformat": 4,
 "nbformat_minor": 2
}
