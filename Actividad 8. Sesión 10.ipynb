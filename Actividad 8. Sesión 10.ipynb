{
 "cells": [
  {
   "cell_type": "markdown",
   "id": "48a3d7f2",
   "metadata": {},
   "source": [
    "# Act 8"
   ]
  },
  {
   "cell_type": "code",
   "execution_count": 1,
   "id": "1edbdae9",
   "metadata": {},
   "outputs": [],
   "source": [
    "import numpy as np"
   ]
  },
  {
   "cell_type": "code",
   "execution_count": 2,
   "id": "898e8658",
   "metadata": {},
   "outputs": [],
   "source": [
    "# Hagamos un programa que determine si eres mayor de edad o no."
   ]
  },
  {
   "cell_type": "code",
   "execution_count": 3,
   "id": "96c58694",
   "metadata": {},
   "outputs": [
    {
     "name": "stdout",
     "output_type": "stream",
     "text": [
      "Escribe tu edad en números enteros: 25\n",
      "Eres mayor de edad\n"
     ]
    }
   ],
   "source": [
    "edad = int(input(\"Escribe tu edad en números enteros: \"))\n",
    "if edad >=18:\n",
    "    print(\"Eres mayor de edad\")\n",
    "elif edad <18:\n",
    "    print(\"Eres menor de edad\")"
   ]
  },
  {
   "cell_type": "code",
   "execution_count": 4,
   "id": "da7476d3",
   "metadata": {},
   "outputs": [
    {
     "name": "stdout",
     "output_type": "stream",
     "text": [
      "Escribe tu edad en números enteros: 14\n",
      "Eres menor de edad\n"
     ]
    }
   ],
   "source": [
    "edad = int(input(\"Escribe tu edad en números enteros: \"))\n",
    "if edad >=18:\n",
    "    print(\"Eres mayor de edad\")\n",
    "elif edad <18:\n",
    "    print(\"Eres menor de edad\")"
   ]
  }
 ],
 "metadata": {
  "kernelspec": {
   "display_name": "Python 3 (ipykernel)",
   "language": "python",
   "name": "python3"
  },
  "language_info": {
   "codemirror_mode": {
    "name": "ipython",
    "version": 3
   },
   "file_extension": ".py",
   "mimetype": "text/x-python",
   "name": "python",
   "nbconvert_exporter": "python",
   "pygments_lexer": "ipython3",
   "version": "3.9.12"
  }
 },
 "nbformat": 4,
 "nbformat_minor": 5
}
